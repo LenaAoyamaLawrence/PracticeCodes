{
 "cells": [
  {
   "cell_type": "code",
   "execution_count": 3,
   "id": "79e331bd-b0cd-43f8-b31a-21d4b7a12b5d",
   "metadata": {},
   "outputs": [
    {
     "name": "stdout",
     "output_type": "stream",
     "text": [
      "Jeu de données de régression :\n"
     ]
    },
    {
     "data": {
      "text/html": [
       "<div>\n",
       "<style scoped>\n",
       "    .dataframe tbody tr th:only-of-type {\n",
       "        vertical-align: middle;\n",
       "    }\n",
       "\n",
       "    .dataframe tbody tr th {\n",
       "        vertical-align: top;\n",
       "    }\n",
       "\n",
       "    .dataframe thead th {\n",
       "        text-align: right;\n",
       "    }\n",
       "</style>\n",
       "<table border=\"1\" class=\"dataframe\">\n",
       "  <thead>\n",
       "    <tr style=\"text-align: right;\">\n",
       "      <th></th>\n",
       "      <th>feature_0</th>\n",
       "      <th>feature_1</th>\n",
       "      <th>feature_2</th>\n",
       "      <th>feature_3</th>\n",
       "      <th>feature_4</th>\n",
       "      <th>target</th>\n",
       "    </tr>\n",
       "  </thead>\n",
       "  <tbody>\n",
       "    <tr>\n",
       "      <th>0</th>\n",
       "      <td>-0.385314</td>\n",
       "      <td>0.199060</td>\n",
       "      <td>-0.600217</td>\n",
       "      <td>0.462103</td>\n",
       "      <td>0.069802</td>\n",
       "      <td>-24.632452</td>\n",
       "    </tr>\n",
       "    <tr>\n",
       "      <th>1</th>\n",
       "      <td>0.130741</td>\n",
       "      <td>1.632411</td>\n",
       "      <td>-1.430141</td>\n",
       "      <td>-1.247783</td>\n",
       "      <td>-0.440044</td>\n",
       "      <td>-125.498542</td>\n",
       "    </tr>\n",
       "    <tr>\n",
       "      <th>2</th>\n",
       "      <td>-0.773010</td>\n",
       "      <td>0.224092</td>\n",
       "      <td>0.012592</td>\n",
       "      <td>-0.401220</td>\n",
       "      <td>0.097676</td>\n",
       "      <td>1.006151</td>\n",
       "    </tr>\n",
       "    <tr>\n",
       "      <th>3</th>\n",
       "      <td>-0.576771</td>\n",
       "      <td>-0.050238</td>\n",
       "      <td>-0.238948</td>\n",
       "      <td>0.270457</td>\n",
       "      <td>-0.907564</td>\n",
       "      <td>-77.034684</td>\n",
       "    </tr>\n",
       "    <tr>\n",
       "      <th>4</th>\n",
       "      <td>-0.575818</td>\n",
       "      <td>0.614167</td>\n",
       "      <td>0.757508</td>\n",
       "      <td>-0.220970</td>\n",
       "      <td>-0.530501</td>\n",
       "      <td>11.742615</td>\n",
       "    </tr>\n",
       "  </tbody>\n",
       "</table>\n",
       "</div>"
      ],
      "text/plain": [
       "   feature_0  feature_1  feature_2  feature_3  feature_4      target\n",
       "0  -0.385314   0.199060  -0.600217   0.462103   0.069802  -24.632452\n",
       "1   0.130741   1.632411  -1.430141  -1.247783  -0.440044 -125.498542\n",
       "2  -0.773010   0.224092   0.012592  -0.401220   0.097676    1.006151\n",
       "3  -0.576771  -0.050238  -0.238948   0.270457  -0.907564  -77.034684\n",
       "4  -0.575818   0.614167   0.757508  -0.220970  -0.530501   11.742615"
      ]
     },
     "metadata": {},
     "output_type": "display_data"
    },
    {
     "name": "stdout",
     "output_type": "stream",
     "text": [
      "\n",
      "Jeu de données de classification :\n"
     ]
    },
    {
     "data": {
      "text/html": [
       "<div>\n",
       "<style scoped>\n",
       "    .dataframe tbody tr th:only-of-type {\n",
       "        vertical-align: middle;\n",
       "    }\n",
       "\n",
       "    .dataframe tbody tr th {\n",
       "        vertical-align: top;\n",
       "    }\n",
       "\n",
       "    .dataframe thead th {\n",
       "        text-align: right;\n",
       "    }\n",
       "</style>\n",
       "<table border=\"1\" class=\"dataframe\">\n",
       "  <thead>\n",
       "    <tr style=\"text-align: right;\">\n",
       "      <th></th>\n",
       "      <th>feature_0</th>\n",
       "      <th>feature_1</th>\n",
       "      <th>feature_2</th>\n",
       "      <th>feature_3</th>\n",
       "      <th>feature_4</th>\n",
       "      <th>target</th>\n",
       "    </tr>\n",
       "  </thead>\n",
       "  <tbody>\n",
       "    <tr>\n",
       "      <th>0</th>\n",
       "      <td>0.407719</td>\n",
       "      <td>-0.095667</td>\n",
       "      <td>1.502357</td>\n",
       "      <td>-1.209659</td>\n",
       "      <td>-1.277852</td>\n",
       "      <td>0</td>\n",
       "    </tr>\n",
       "    <tr>\n",
       "      <th>1</th>\n",
       "      <td>1.171938</td>\n",
       "      <td>-0.734462</td>\n",
       "      <td>0.311250</td>\n",
       "      <td>-0.052759</td>\n",
       "      <td>-2.182368</td>\n",
       "      <td>1</td>\n",
       "    </tr>\n",
       "    <tr>\n",
       "      <th>2</th>\n",
       "      <td>0.208795</td>\n",
       "      <td>0.045808</td>\n",
       "      <td>0.332314</td>\n",
       "      <td>-1.325960</td>\n",
       "      <td>-0.961946</td>\n",
       "      <td>0</td>\n",
       "    </tr>\n",
       "    <tr>\n",
       "      <th>3</th>\n",
       "      <td>-0.766396</td>\n",
       "      <td>0.297780</td>\n",
       "      <td>-0.351513</td>\n",
       "      <td>1.394775</td>\n",
       "      <td>2.019333</td>\n",
       "      <td>1</td>\n",
       "    </tr>\n",
       "    <tr>\n",
       "      <th>4</th>\n",
       "      <td>-0.474432</td>\n",
       "      <td>0.295337</td>\n",
       "      <td>1.676437</td>\n",
       "      <td>0.036211</td>\n",
       "      <td>0.889946</td>\n",
       "      <td>1</td>\n",
       "    </tr>\n",
       "  </tbody>\n",
       "</table>\n",
       "</div>"
      ],
      "text/plain": [
       "   feature_0  feature_1  feature_2  feature_3  feature_4  target\n",
       "0   0.407719  -0.095667   1.502357  -1.209659  -1.277852       0\n",
       "1   1.171938  -0.734462   0.311250  -0.052759  -2.182368       1\n",
       "2   0.208795   0.045808   0.332314  -1.325960  -0.961946       0\n",
       "3  -0.766396   0.297780  -0.351513   1.394775   2.019333       1\n",
       "4  -0.474432   0.295337   1.676437   0.036211   0.889946       1"
      ]
     },
     "metadata": {},
     "output_type": "display_data"
    }
   ],
   "source": [
    " # Importation des bibliothèques nécessaires\n",
    "import pandas as pd\n",
    "import numpy as np\n",
    "import matplotlib.pyplot as plt\n",
    "import seaborn as sns\n",
    "from sklearn.model_selection import train_test_split\n",
    "from sklearn.linear_model import LinearRegression\n",
    "from sklearn.neighbors import KNeighborsRegressor\n",
    "from sklearn.tree import DecisionTreeRegressor\n",
    "from sklearn.linear_model import LogisticRegression\n",
    "from sklearn.svm import SVC\n",
    "from sklearn.metrics import mean_squared_error, r2_score, accuracy_score, precision_score, recall_score, f1_score, confusion_matrix\n",
    "\n",
    "# Génération d'un jeu de données pour la régression\n",
    "from sklearn.datasets import make_regression, make_classification\n",
    "\n",
    "# Jeu de données pour la régression (200 échantillons, 5 variables indépendantes)\n",
    "X_regression, y_regression = make_regression(n_samples=200, n_features=5, noise=0.1, random_state=42)\n",
    "\n",
    "# Jeu de données pour la classification binaire (200 échantillons, 5 variables indépendantes)\n",
    "X_classification, y_classification = make_classification(n_samples=200, n_features=5, n_classes=2, random_state=42)\n",
    "\n",
    "# Conversion en DataFrames\n",
    "data_regression = pd.DataFrame(X_regression, columns=[f'feature_{i}' for i in range(5)])\n",
    "data_regression['target'] = y_regression\n",
    "\n",
    "data_classification = pd.DataFrame(X_classification, columns=[f'feature_{i}' for i in range(5)])\n",
    "data_classification['target'] = y_classification\n",
    "\n",
    "# Aperçu des jeux de données\n",
    "print(\"Jeu de données de régression :\")\n",
    "display(data_regression.head())\n",
    "\n",
    "print(\"\\nJeu de données de classification :\")\n",
    "display(data_classification.head())\n"
   ]
  },
  {
   "cell_type": "code",
   "execution_count": 5,
   "id": "da71fc14-3d23-4120-b160-035dd8862fae",
   "metadata": {},
   "outputs": [],
   "source": [
    "# Division du jeu de données de régression en ensembles d'entraînement et de test\n",
    "X = data_regression.drop(columns=['target'])\n",
    "y = data_regression['target']\n",
    "\n",
    "X_train, X_test, y_train, y_test = train_test_split(X, y, test_size=0.3, random_state=42)\n"
   ]
  },
  {
   "cell_type": "code",
   "execution_count": 7,
   "id": "ad54afad-3c65-4f21-9577-da1e35b33895",
   "metadata": {},
   "outputs": [
    {
     "name": "stdout",
     "output_type": "stream",
     "text": [
      "RMSE: 0.09053905048833714\n",
      "R^2: 0.99999895031278\n"
     ]
    }
   ],
   "source": [
    "# Modèle de régression linéaire\n",
    "model_lr = LinearRegression()\n",
    "model_lr.fit(X_train, y_train)\n",
    "\n",
    "# Prédictions\n",
    "y_pred_lr = model_lr.predict(X_test)\n",
    "\n",
    "# Calcul des métriques\n",
    "mse_lr = mean_squared_error(y_test, y_pred_lr)\n",
    "r2_lr = r2_score(y_test, y_pred_lr)\n",
    "\n",
    "# Affichage des résultats\n",
    "print(f\"RMSE: {np.sqrt(mse_lr)}\")\n",
    "print(f\"R^2: {r2_lr}\")\n"
   ]
  },
  {
   "cell_type": "code",
   "execution_count": 9,
   "id": "54a5658b-eddf-44bc-876b-39b29602a901",
   "metadata": {},
   "outputs": [
    {
     "data": {
      "text/html": [
       "<div>\n",
       "<style scoped>\n",
       "    .dataframe tbody tr th:only-of-type {\n",
       "        vertical-align: middle;\n",
       "    }\n",
       "\n",
       "    .dataframe tbody tr th {\n",
       "        vertical-align: top;\n",
       "    }\n",
       "\n",
       "    .dataframe thead th {\n",
       "        text-align: right;\n",
       "    }\n",
       "</style>\n",
       "<table border=\"1\" class=\"dataframe\">\n",
       "  <thead>\n",
       "    <tr style=\"text-align: right;\">\n",
       "      <th></th>\n",
       "      <th>Model</th>\n",
       "      <th>RMSE</th>\n",
       "      <th>R^2</th>\n",
       "    </tr>\n",
       "  </thead>\n",
       "  <tbody>\n",
       "    <tr>\n",
       "      <th>0</th>\n",
       "      <td>Linear Regression</td>\n",
       "      <td>0.090539</td>\n",
       "      <td>0.999999</td>\n",
       "    </tr>\n",
       "  </tbody>\n",
       "</table>\n",
       "</div>"
      ],
      "text/plain": [
       "               Model      RMSE       R^2\n",
       "0  Linear Regression  0.090539  0.999999"
      ]
     },
     "execution_count": 9,
     "metadata": {},
     "output_type": "execute_result"
    }
   ],
   "source": [
    "# Tableau récapitulatif des performances du modèle de régression linéaire\n",
    "regression_metrics = pd.DataFrame({\n",
    "    'Model': ['Linear Regression'],\n",
    "    'RMSE': [np.sqrt(mse_lr)],\n",
    "    'R^2': [r2_lr]\n",
    "})\n",
    "\n",
    "regression_metrics\n"
   ]
  },
  {
   "cell_type": "code",
   "execution_count": 11,
   "id": "79ab4736-2ba9-48fb-a724-c79299529bee",
   "metadata": {},
   "outputs": [
    {
     "name": "stdout",
     "output_type": "stream",
     "text": [
      "RMSE: 37.45115613315172\n",
      "R^2: 0.8203949694275346\n"
     ]
    }
   ],
   "source": [
    "# Modèle KNN pour la régression\n",
    "knn = KNeighborsRegressor(n_neighbors=5)\n",
    "knn.fit(X_train, y_train)\n",
    "\n",
    "# Prédictions\n",
    "y_pred_knn = knn.predict(X_test)\n",
    "\n",
    "# Calcul des métriques\n",
    "mse_knn = mean_squared_error(y_test, y_pred_knn)\n",
    "r2_knn = r2_score(y_test, y_pred_knn)\n",
    "\n",
    "# Affichage des résultats\n",
    "print(f\"RMSE: {np.sqrt(mse_knn)}\")\n",
    "print(f\"R^2: {r2_knn}\")\n"
   ]
  },
  {
   "cell_type": "code",
   "execution_count": 13,
   "id": "fdc26e14-e4f7-4fef-8e0f-cf4c01b58855",
   "metadata": {},
   "outputs": [
    {
     "name": "stdout",
     "output_type": "stream",
     "text": [
      "RMSE: 45.71524282247587\n",
      "R^2: 0.732385216864393\n"
     ]
    }
   ],
   "source": [
    "# Modèle Arbre de Décision pour la régression\n",
    "tree = DecisionTreeRegressor(random_state=42)\n",
    "tree.fit(X_train, y_train)\n",
    "\n",
    "# Prédictions\n",
    "y_pred_tree = tree.predict(X_test)\n",
    "\n",
    "# Calcul des métriques\n",
    "mse_tree = mean_squared_error(y_test, y_pred_tree)\n",
    "r2_tree = r2_score(y_test, y_pred_tree)\n",
    "\n",
    "# Affichage des résultats\n",
    "print(f\"RMSE: {np.sqrt(mse_tree)}\")\n",
    "print(f\"R^2: {r2_tree}\")\n"
   ]
  },
  {
   "cell_type": "code",
   "execution_count": 15,
   "id": "41ffc309-9268-4959-9ec7-2f5abf9129e9",
   "metadata": {},
   "outputs": [
    {
     "name": "stdout",
     "output_type": "stream",
     "text": [
      "Accuracy: 0.8666666666666667\n",
      "Precision: 0.8125\n",
      "Recall: 0.9285714285714286\n",
      "F1 Score: 0.8666666666666667\n"
     ]
    }
   ],
   "source": [
    "# Division du jeu de données de classification en ensembles d'entraînement et de test\n",
    "X = data_classification.drop(columns=['target'])\n",
    "y = data_classification['target']\n",
    "\n",
    "X_train, X_test, y_train, y_test = train_test_split(X, y, test_size=0.3, random_state=42)\n",
    "\n",
    "# Modèle de régression logistique\n",
    "logreg = LogisticRegression()\n",
    "logreg.fit(X_train, y_train)\n",
    "\n",
    "# Prédictions\n",
    "y_pred_logreg = logreg.predict(X_test)\n",
    "\n",
    "# Calcul des métriques de classification\n",
    "accuracy = accuracy_score(y_test, y_pred_logreg)\n",
    "precision = precision_score(y_test, y_pred_logreg)\n",
    "recall = recall_score(y_test, y_pred_logreg)\n",
    "f1 = f1_score(y_test, y_pred_logreg)\n",
    "\n",
    "# Affichage des résultats\n",
    "print(f\"Accuracy: {accuracy}\")\n",
    "print(f\"Precision: {precision}\")\n",
    "print(f\"Recall: {recall}\")\n",
    "print(f\"F1 Score: {f1}\")\n"
   ]
  },
  {
   "cell_type": "code",
   "execution_count": 17,
   "id": "9c1fa191-a6d8-4e25-bf5a-584d3e496b1c",
   "metadata": {},
   "outputs": [
    {
     "name": "stdout",
     "output_type": "stream",
     "text": [
      "Accuracy: 0.85\n",
      "Precision: 0.7714285714285715\n",
      "Recall: 0.9642857142857143\n",
      "F1 Score: 0.8571428571428571\n"
     ]
    }
   ],
   "source": [
    "# Modèle SVM pour la classification\n",
    "svm = SVC(random_state=42)\n",
    "svm.fit(X_train, y_train)\n",
    "\n",
    "# Prédictions\n",
    "y_pred_svm = svm.predict(X_test)\n",
    "\n",
    "# Calcul des métriques de classification\n",
    "accuracy_svm = accuracy_score(y_test, y_pred_svm)\n",
    "precision_svm = precision_score(y_test, y_pred_svm)\n",
    "recall_svm = recall_score(y_test, y_pred_svm)\n",
    "f1_svm = f1_score(y_test, y_pred_svm)\n",
    "\n",
    "# Affichage des résultats\n",
    "print(f\"Accuracy: {accuracy_svm}\")\n",
    "print(f\"Precision: {precision_svm}\")\n",
    "print(f\"Recall: {recall_svm}\")\n",
    "print(f\"F1 Score: {f1_svm}\")\n"
   ]
  },
  {
   "cell_type": "code",
   "execution_count": 19,
   "id": "f273d8a2-a350-42cb-9017-aa1abc1fb7d5",
   "metadata": {},
   "outputs": [
    {
     "data": {
      "text/html": [
       "<div>\n",
       "<style scoped>\n",
       "    .dataframe tbody tr th:only-of-type {\n",
       "        vertical-align: middle;\n",
       "    }\n",
       "\n",
       "    .dataframe tbody tr th {\n",
       "        vertical-align: top;\n",
       "    }\n",
       "\n",
       "    .dataframe thead th {\n",
       "        text-align: right;\n",
       "    }\n",
       "</style>\n",
       "<table border=\"1\" class=\"dataframe\">\n",
       "  <thead>\n",
       "    <tr style=\"text-align: right;\">\n",
       "      <th></th>\n",
       "      <th>Model</th>\n",
       "      <th>Accuracy</th>\n",
       "      <th>Precision</th>\n",
       "      <th>Recall</th>\n",
       "      <th>F1 Score</th>\n",
       "    </tr>\n",
       "  </thead>\n",
       "  <tbody>\n",
       "    <tr>\n",
       "      <th>0</th>\n",
       "      <td>Logistic Regression</td>\n",
       "      <td>0.866667</td>\n",
       "      <td>0.812500</td>\n",
       "      <td>0.928571</td>\n",
       "      <td>0.866667</td>\n",
       "    </tr>\n",
       "    <tr>\n",
       "      <th>1</th>\n",
       "      <td>SVM</td>\n",
       "      <td>0.850000</td>\n",
       "      <td>0.771429</td>\n",
       "      <td>0.964286</td>\n",
       "      <td>0.857143</td>\n",
       "    </tr>\n",
       "  </tbody>\n",
       "</table>\n",
       "</div>"
      ],
      "text/plain": [
       "                 Model  Accuracy  Precision    Recall  F1 Score\n",
       "0  Logistic Regression  0.866667   0.812500  0.928571  0.866667\n",
       "1                  SVM  0.850000   0.771429  0.964286  0.857143"
      ]
     },
     "execution_count": 19,
     "metadata": {},
     "output_type": "execute_result"
    }
   ],
   "source": [
    "# Tableau récapitulatif des performances des modèles de classification\n",
    "classification_metrics = pd.DataFrame({\n",
    "    'Model': ['Logistic Regression', 'SVM'],\n",
    "    'Accuracy': [accuracy, accuracy_svm],\n",
    "    'Precision': [precision, precision_svm],\n",
    "    'Recall': [recall, recall_svm],\n",
    "    'F1 Score': [f1, f1_svm]\n",
    "})\n",
    "\n",
    "classification_metrics\n"
   ]
  },
  {
   "cell_type": "code",
   "execution_count": null,
   "id": "930da439-265b-4935-888c-7479228a380e",
   "metadata": {},
   "outputs": [],
   "source": []
  }
 ],
 "metadata": {
  "kernelspec": {
   "display_name": "Python 3 (ipykernel)",
   "language": "python",
   "name": "python3"
  },
  "language_info": {
   "codemirror_mode": {
    "name": "ipython",
    "version": 3
   },
   "file_extension": ".py",
   "mimetype": "text/x-python",
   "name": "python",
   "nbconvert_exporter": "python",
   "pygments_lexer": "ipython3",
   "version": "3.12.4"
  }
 },
 "nbformat": 4,
 "nbformat_minor": 5
}
